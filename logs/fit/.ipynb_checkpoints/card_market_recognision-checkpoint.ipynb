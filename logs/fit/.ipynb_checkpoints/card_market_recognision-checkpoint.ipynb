{
 "cells": [
  {
   "cell_type": "markdown",
   "metadata": {
    "id": "dggeEyXEn_QN"
   },
   "source": [
    "## Things to test out:\n",
    "\n",
    "* **Custom Model Training:** Since your dataset is very unique and likely not well-represented in pre-trained models, training a custom model from scratch might be the most effective approach. This involves designing a Convolutional Neural Network (CNN) architecture that is specifically tailored to your dataset's characteristics. You can start with a simple architecture and gradually increase its complexity as needed. Training a custom model from scratch allows you to fully leverage your dataset, but it requires a significant amount of computational resources and time.\n",
    "\n",
    "* **Efficient Model Architecture:**  Given the large number of classes, you might need to experiment with different model architectures to find one that balances accuracy and computational efficiency. Consider using architectures that are designed to handle a large number of classes, such as **DenseNet** or **Xception**. These architectures can help manage the complexity of a large number of classes without requiring an excessive amount of computational resources.\n",
    "\n",
    "* **Regularization Techniques:** To prevent overfitting, especially with a large number of classes, consider using regularization techniques such as **L1** or **L2** regularization. These techniques add a penalty to the loss function, encouraging the model to **learn simpler, more generalized features**.\n",
    "\n"
   ]
  },
  {
   "cell_type": "markdown",
   "metadata": {
    "id": "EmizVpxMpgAH"
   },
   "source": [
    "### TLDR:\n",
    "* **Architecture:**\n",
    "  * DenseNet\n",
    "  * Xception\n",
    "\n",
    "* **Regularization:**\n",
    "  * L1/L2"
   ]
  },
  {
   "cell_type": "markdown",
   "metadata": {
    "id": "Y9axZ_r91YAw"
   },
   "source": [
    "## DenseNet\n",
    "\n",
    "[Keras DenseNet Architectures](https://www.tensorflow.org/api_docs/python/tf/keras/applications/densenet)\n",
    "\n",
    "[Keras DenseNet Applications](https://keras.io/api/applications/densenet/)\n",
    "\n",
    "For **DenseNet**, considering your scenario with 17,000 unique classes, here are some considerations:\n",
    "\n",
    "**Complexity and Accuracy:** DenseNet addresses the vanishing gradient problem by connecting each layer to all preceding layers, which allows for efficient use of parameters and helps in capturing features at various levels of abstraction. This architecture can potentially offer high accuracy for complex datasets, as it allows for the sharing of features across layers, which can be beneficial for tasks with a large number of classes 3.\n",
    "\n",
    "**Training Time:** DenseNet's architecture, while efficient in terms of parameter usage, can be computationally intensive due to its dense connectivity pattern. This means that DenseNet models, especially those with a high number of layers (e.g., DenseNet201), can take a significant amount of time to train. If training time is a concern, you might need to consider models with fewer layers, such as DenseNet121 or DenseNet169 3.\n",
    "\n",
    "**Model Size:** DenseNet models, especially the larger versions (e.g., DenseNet201), can be quite large in terms of the number of parameters. This is due to the dense connectivity pattern, which requires a significant number of parameters to maintain the connections between layers. The model size can be a consideration if you're deploying the model on a server with limited storage 3.\n",
    "\n",
    "**Residual Connections:** DenseNet does not use residual connections in the traditional sense as seen in ResNet. Instead, it connects each layer to all preceding layers, which is a unique approach to handling the vanishing gradient problem. This dense connectivity pattern allows for efficient use of parameters and can be beneficial for complex datasets, but it does not offer the same advantages in terms of training speed and stability as residual connections 3.\n",
    "\n",
    "**Depthwise Separable Convolutions:** DenseNet incorporates depthwise separable convolutions, which are a form of convolution that separates the learning of spatial features from the learning of channel-wise features. This can lead to a reduction in the number of parameters and computational complexity, making DenseNet more efficient than models that use regular convolutions. The use of depthwise separable convolutions in DenseNet contributes to its efficiency and can be beneficial for tasks with a large number of classes 1.\n",
    "\n",
    "**tldr:** DenseNet offers a unique approach to handling the vanishing gradient problem and can be highly accurate for complex datasets. However, its dense connectivity pattern can lead to longer training times and larger model sizes, which should be considered when choosing a model for your scenario. The use of depthwise separable convolutions contributes to DenseNet's efficiency, making it a suitable choice for tasks with a large number of classes."
   ]
  },
  {
   "cell_type": "markdown",
   "metadata": {
    "id": "LMwaSmi45MZR"
   },
   "source": [
    "## Xception\n",
    "\n",
    "[Keras Xception Architectures](https://www.tensorflow.org/api_docs/python/tf/keras/applications/xception)\n",
    "\n",
    "[Keras Xception Applications](https://keras.io/api/applications/xception/)\n",
    "\n",
    "For the **Xception** model, considering your scenario with 17,000 unique classes, here are some considerations:\n",
    "\n",
    "**Complexity and Accuracy:** Xception has been shown to outperform other models like VGGNet, ResNet, and Inception-v3 in terms of accuracy, especially on the JFT dataset, which comprises over 350 million high-resolution images annotated with labels from a set of 17,000 classes 14. This suggests that Xception can handle complex datasets well, potentially offering high accuracy for your scenario. However, it's important to note that the performance gains are attributed to a more efficient use of model parameters rather than increased capacity 24.\n",
    "\n",
    "**Training Time:** While specific training time comparisons between Xception and other models like DenseNet are not provided in the sources, it's noted that Xception's training on the JFT dataset took over one month 4. This indicates that Xception might require a significant amount of time to train, especially on large datasets. If training time is a concern, you might need to consider this aspect in your decision-making process.\n",
    "\n",
    "**Model Size:** Xception has a similar model size to Inception-v3, with approximately 22,855,952 parameters 4. This suggests that Xception's model size is comparable to other state-of-the-art models, which could be a consideration if you're deploying the model on a server with limited storage. However, it's important to note that the performance gains of Xception over Inception-v3 do not come from added capacity but rather from a more efficient use of the model parameters 24.\n",
    "\n",
    "**Residual Connections:** Xception incorporates residual connections, which have been shown to significantly improve accuracy 1. This feature might be beneficial for your scenario, especially if you're dealing with complex datasets that require deep learning models to capture intricate patterns.\n",
    "\n",
    "**Depthwise Separable Convolution:** Xception uses modified depthwise separable convolutions, which are claimed to be more efficient than traditional convolutions 1. This could be an advantage in terms of computational efficiency, potentially allowing for faster training times or the ability to train on hardware with limited computational resources.\n",
    "\n",
    "**tldr:** Xception offers a balance between accuracy and efficiency, with its architecture designed to handle complex datasets effectively. However, its training time and model size are comparable to other models, so these factors should be considered alongside your specific requirements and constraints."
   ]
  },
  {
   "cell_type": "markdown",
   "metadata": {
    "id": "Zf7YSdnRPBaI"
   },
   "source": [
    "## Compared:\n",
    "\n",
    "This [Paper](https://www.mdpi.com/2079-9292/12/14/3132) describes how some of the models including Xception and Densenet performed in comparision to each other.\n",
    "\n",
    "Takaways:\n",
    "- Mobilenet and Resnet were strugleing with more difficult dataset\n",
    "- While on recommended image size for easy dataset Mobilenet and Resnet achieved remarkable accuracy. In these ideal scenarios Densenet followed by Xception performed in very good 98% range\n",
    "- On harder dataset Densenet followed by Xception outperformed Mobilenet and Resnet\n",
    "- On smaller image sizes (75x75 which is smaller than models recommended), Densenet and Xception also outperformed the rest"
   ]
  },
  {
   "cell_type": "markdown",
   "metadata": {
    "id": "uAMFEgmjBvIS"
   },
   "source": [
    "## Setup dataset:"
   ]
  },
  {
   "cell_type": "markdown",
   "metadata": {
    "id": "X1UIyMC9CN3T"
   },
   "source": [
    "Import required packages"
   ]
  },
  {
   "cell_type": "code",
   "execution_count": null,
   "metadata": {
    "executionInfo": {
     "elapsed": 359,
     "status": "ok",
     "timestamp": 1711445651857,
     "user": {
      "displayName": "Peter Kaf",
      "userId": "07760899712362322895"
     },
     "user_tz": -60
    },
    "id": "VHpsmEpSB1nx"
   },
   "outputs": [],
   "source": [
    "# Import packages\n",
    "import os\n",
    "import tensorflow as tf\n",
    "from tensorflow.keras.applications import DenseNet121\n",
    "from tensorflow.keras.applications.densenet import preprocess_input\n",
    "from tensorflow.keras.layers import Dense, GlobalAveragePooling2D, Dropout\n",
    "from tensorflow.keras.models import Model\n",
    "from tensorflow.keras.optimizers import Adam\n",
    "from tensorflow.keras.callbacks import TensorBoard, ModelCheckpoint, EarlyStopping\n",
    "import datetime"
   ]
  },
  {
   "cell_type": "code",
   "execution_count": null,
   "metadata": {},
   "outputs": [],
   "source": [
    "# imports for efficientnet\n",
    "# Import Data Science Libraries\n",
    "import numpy as np\n",
    "import pandas as pd\n",
    "import matplotlib.pyplot as plt\n",
    "import tensorflow as tf\n",
    "\n",
    "# Tensorflow Libraries\n",
    "from tensorflow import keras\n",
    "from tensorflow.keras import layers,models\n",
    "from keras.layers import Dense, Dropout\n",
    "from tensorflow.keras.callbacks import Callback, EarlyStopping,ModelCheckpoint, ReduceLROnPlateau\n",
    "from tensorflow.keras.optimizers import Adam\n",
    "from tensorflow.keras.applications import MobileNetV2\n",
    "from tensorflow.keras import Model"
   ]
  },
  {
   "cell_type": "markdown",
   "metadata": {},
   "source": [
    "Data generators will allow us to data augmentation to artificaily create more data"
   ]
  },
  {
   "cell_type": "code",
   "execution_count": null,
   "metadata": {},
   "outputs": [],
   "source": [
    "# Define paths\n",
    "train_dir = 'dataset/train'\n",
    "validation_dir = 'dataset/valid'\n",
    "test_dir = 'dataset/test'\n",
    "\n",
    "# Define parameters\n",
    "IMG_SIZE = (224, 224)\n",
    "BATCH_SIZE = 16\n",
    "num_classes = len(os.listdir(train_dir))\n",
    "\n",
    "# Define logs directory\n",
    "log_dir = \"logs/fit/\" + datetime.datetime.now().strftime(\"%Y%m%d-%H%M%S\")\n",
    "\n",
    "# Define checkpoints directory\n",
    "checkpoints_dir = \"checkpoints\""
   ]
  },
  {
   "cell_type": "code",
   "execution_count": null,
   "metadata": {},
   "outputs": [],
   "source": [
    "# Define preprocessing function\n",
    "def preprocessing(image, label):\n",
    "    image = preprocess_input(image)\n",
    "    return image, label\n",
    "\n",
    "\n",
    "# Load and preprocess the training dataset\n",
    "train_dataset = tf.keras.preprocessing.image_dataset_from_directory(\n",
    "    train_dir,\n",
    "    image_size=IMG_SIZE,\n",
    "    batch_size=BATCH_SIZE,\n",
    "    label_mode='categorical'\n",
    ")\n",
    "\n",
    "\n",
    "# Load and preprocess the datasets\n",
    "validation_dataset = tf.keras.preprocessing.image_dataset_from_directory(\n",
    "    validation_dir,\n",
    "    image_size=IMG_SIZE,\n",
    "    batch_size=BATCH_SIZE,\n",
    "    label_mode='categorical'\n",
    ")\n",
    "\n",
    "# Load and preprocess the test dataset\n",
    "test_dataset = tf.keras.preprocessing.image_dataset_from_directory(\n",
    "    test_dir,\n",
    "    image_size=IMG_SIZE,\n",
    "    batch_size=BATCH_SIZE,\n",
    "    label_mode='categorical',\n",
    "    shuffle=False\n",
    ")\n",
    "\n",
    "# Apply preprocessing to the training dataset\n",
    "train_dataset = train_dataset.map(preprocessing, num_parallel_calls=tf.data.AUTOTUNE)\n",
    "# Apply preprocessing to the validation dataset\n",
    "validation_dataset = validation_dataset.map(preprocessing, num_parallel_calls=tf.data.AUTOTUNE)\n",
    "# Apply preprocessing to the test dataset\n",
    "test_dataset = test_dataset.map(preprocessing, num_parallel_calls=tf.data.AUTOTUNE)"
   ]
  },
  {
   "cell_type": "markdown",
   "metadata": {},
   "source": [
    "### Densenet model"
   ]
  },
  {
   "cell_type": "code",
   "execution_count": null,
   "metadata": {},
   "outputs": [],
   "source": [
    "# Load the DenseNet model\n",
    "base_model = DenseNet121(weights='imagenet', include_top=False, input_shape=(224, 224, 3))\n",
    "\n",
    "# Freeze the base model\n",
    "base_model.trainable = False\n",
    "\n",
    "# Add custom layers\n",
    "x = base_model.output\n",
    "x = GlobalAveragePooling2D()(x)\n",
    "x = Dense(1024, activation='relu')(x)\n",
    "x = Dropout(0.5)(x)  # Added dropout layer here\n",
    "predictions = Dense(num_classes, activation='softmax')(x)  # Use num_classes here\n",
    "\n",
    "# Final model\n",
    "model = Model(inputs=base_model.input, outputs=predictions)"
   ]
  },
  {
   "cell_type": "code",
   "execution_count": null,
   "metadata": {},
   "outputs": [],
   "source": [
    "\"\"\"\n",
    "# Show model architecture\n",
    "model.summary()\n",
    "\"\"\""
   ]
  },
  {
   "cell_type": "code",
   "execution_count": null,
   "metadata": {},
   "outputs": [],
   "source": [
    "# Define callbacks\n",
    "tensorboard_callback = TensorBoard(log_dir=log_dir, histogram_freq=1)\n",
    "\n",
    "checkpoint_callback = ModelCheckpoint(filepath=f\"{checkpoints_dir}/model-{{epoch:03d}}-{{val_loss:.3f}}.keras\",\n",
    "                                      monitor='val_loss',\n",
    "                                      verbose=1,\n",
    "                                      save_best_only=True,\n",
    "                                      mode='auto')\n",
    "\n",
    "early_stopping_callback = EarlyStopping(monitor=\"val_loss\",\n",
    "                                        patience=5,\n",
    "                                        restore_best_weights=True)"
   ]
  },
  {
   "cell_type": "markdown",
   "metadata": {},
   "source": [
    "### Efficientnet model"
   ]
  },
  {
   "cell_type": "code",
   "execution_count": null,
   "metadata": {},
   "outputs": [],
   "source": [
    "# Load the pretained model\n",
    "base_model1 = tf.keras.applications.efficientnet.EfficientNetB0(\n",
    "    input_shape=(224, 224, 3),\n",
    "    include_top=False,\n",
    "    weights='imagenet',\n",
    "    pooling='max'\n",
    ")\n",
    "\n",
    "base_model1.trainable = False"
   ]
  },
  {
   "cell_type": "code",
   "execution_count": null,
   "metadata": {},
   "outputs": [],
   "source": [
    "inputs = base_model1.input\n",
    "x = inputs\n",
    "\n",
    "x = Dense(128, activation='relu')(x)\n",
    "x = Dropout(0.45)(x)\n",
    "x = Dense(256, activation='relu')(x)\n",
    "x = Dropout(0.45)(x)\n",
    "\n",
    "\n",
    "outputs = Dense(525, activation='softmax')(x)\n",
    "\n",
    "model = Model(inputs=inputs, outputs=outputs)\n",
    "\n",
    "model.compile(\n",
    "    optimizer=Adam(0.0001),\n",
    "    loss='categorical_crossentropy',\n",
    "    metrics=['accuracy']\n",
    ")"
   ]
  },
  {
   "cell_type": "code",
   "execution_count": null,
   "metadata": {},
   "outputs": [],
   "source": [
    "# Show model architecture\n",
    "model.summary()"
   ]
  },
  {
   "cell_type": "code",
   "execution_count": null,
   "metadata": {},
   "outputs": [],
   "source": [
    "\"\"\"\n",
    "# Train the model with TensorBoard callback\n",
    "history = model.fit(train_dataset,\n",
    "                    epochs=20,\n",
    "                    validation_data=validation_dataset,\n",
    "                    callbacks=[tensorboard_callback, checkpoint_callback, early_stopping_callback])\n",
    "\"\"\""
   ]
  },
  {
   "cell_type": "markdown",
   "metadata": {},
   "source": [
    "The above will train the model, but on this setup it gives error messages about: \n",
    "\" W external/local_tsl/tsl/framework/cpu_allocator_impl.cc:83] Allocation of 102760448 exceeds 10% of free system memory.\",\n",
    "indicating that more system memory should be available for a training process. This will be fixed by default when run with more system memory.\n",
    "For now its fixed by running script from a terminal limiting system memory usage.\n",
    "\n",
    "<strike>While training this message can appear at the end of each epoch:\n",
    "\"Local rendezvous is aborting with status: OUT_OF_RANGE\",\n",
    "this message is expected behavior, and apparently does not effect performance of trained model</strike>\n",
    "\n",
    "Above was fixed by using preprocesing function instead of deprecated data generator one.\n",
    "\n",
    "We can read more about how data in Tensorflow works here:\n",
    "[TensorFlow input pipelines](https://www.tensorflow.org/guide/data)"
   ]
  },
  {
   "cell_type": "markdown",
   "metadata": {},
   "source": [
    "For now lets assume the training process will not be done in a notebook but terminal instead. Hence for the reminder of a notebook we will used trained model."
   ]
  },
  {
   "cell_type": "code",
   "execution_count": null,
   "metadata": {},
   "outputs": [],
   "source": [
    "# Evaluate the model\n",
    "test_loss, test_acc = model.evaluate(test_generator, steps=test_generator.samples // BATCH_SIZE)\n",
    "print(f'Test accuracy: {test_acc}, Test loss: {test_loss}')"
   ]
  },
  {
   "cell_type": "code",
   "execution_count": null,
   "metadata": {},
   "outputs": [],
   "source": [
    "# Save the model in TensorFlow SavedModel format\n",
    "model.save('trained_models/model_1.keras')"
   ]
  },
  {
   "cell_type": "markdown",
   "metadata": {},
   "source": [
    "Run Tensorboard:"
   ]
  },
  {
   "cell_type": "code",
   "execution_count": null,
   "metadata": {},
   "outputs": [],
   "source": [
    "%load_ext tensorboard\n",
    "%tensorboard --logdir logs"
   ]
  },
  {
   "cell_type": "markdown",
   "metadata": {},
   "source": [
    "## Recovery from checkpoint\n",
    "\n"
   ]
  }
 ],
 "metadata": {
  "colab": {
   "authorship_tag": "ABX9TyNUCopYWxLxpAhbkQcvJy0z",
   "provenance": []
  },
  "kernelspec": {
   "display_name": "Python 3 (ipykernel)",
   "language": "python",
   "name": "python3"
  },
  "language_info": {
   "codemirror_mode": {
    "name": "ipython",
    "version": 3
   },
   "file_extension": ".py",
   "mimetype": "text/x-python",
   "name": "python",
   "nbconvert_exporter": "python",
   "pygments_lexer": "ipython3",
   "version": "3.12.2"
  }
 },
 "nbformat": 4,
 "nbformat_minor": 4
}
